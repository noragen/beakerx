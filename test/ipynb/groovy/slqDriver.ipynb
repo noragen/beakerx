{
 "cells": [
  {
   "cell_type": "code",
   "execution_count": null,
   "metadata": {
    "scrolled": true
   },
   "outputs": [],
   "source": [
    "%classpath add mvn org.xerial sqlite-jdbc 3.27.2.1"
   ]
  },
  {
   "cell_type": "code",
   "execution_count": null,
   "metadata": {},
   "outputs": [],
   "source": [
    "conn = BxDriverManager.getConnection(\"jdbc:sqlite:sample.db\");  "
   ]
  },
  {
   "cell_type": "code",
   "execution_count": null,
   "metadata": {},
   "outputs": [],
   "source": [
    " try{  \n",
    "    sql = \"CREATE TABLE IF NOT EXISTS Person ( id integer PRIMARY KEY,  name text NOT NULL);\";  \n",
    "    stmt = conn.createStatement();  \n",
    "    result  = stmt.execute(sql);  \n",
    "    dbm = conn.getMetaData();\n",
    "    tables = dbm.getTables(null, null, \"Person\", null);\n",
    "     while (tables.next()) { \n",
    "            tName = tables.getString(\"TABLE_NAME\");\n",
    "            if (tName != null && tName.equals(\"Person\")) {\n",
    "                println(\"table '\"+tName+\"' exists \");  \n",
    "                tExists = true;\n",
    "                break;\n",
    "            }\n",
    "        }\n",
    "} catch (Exception e) {  \n",
    "   println(e.getMessage());  \n",
    " } finally{\n",
    "     conn.close()\n",
    " } "
   ]
  },
  {
   "cell_type": "code",
   "execution_count": null,
   "metadata": {
    "scrolled": true
   },
   "outputs": [],
   "source": [
    "import java.sql.DriverManager\n",
    "java.sql.DriverManager.getConnection(\"jdbc:sqlite:sample.db\")"
   ]
  }
 ],
 "metadata": {
  "kernelspec": {
   "display_name": "Groovy",
   "language": "groovy",
   "name": "groovy"
  },
  "language_info": {
   "codemirror_mode": "groovy",
   "file_extension": ".groovy",
   "mimetype": "",
   "name": "Groovy",
   "nbconverter_exporter": "",
   "version": "2.5.6"
  },
  "toc": {
   "base_numbering": 1,
   "nav_menu": {},
   "number_sections": false,
   "sideBar": false,
   "skip_h1_title": false,
   "title_cell": "Table of Contents",
   "title_sidebar": "Contents",
   "toc_cell": false,
   "toc_position": {},
   "toc_section_display": false,
   "toc_window_display": false
  }
 },
 "nbformat": 4,
 "nbformat_minor": 2
}
