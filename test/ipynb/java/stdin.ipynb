{
 "cells": [
  {
   "cell_type": "code",
   "execution_count": null,
   "metadata": {},
   "outputs": [],
   "source": [
    "import java.util.Scanner;\n",
    "Scanner scanner = new Scanner(System.in); \n",
    "System.out.println(\"Enter your name: \");\n",
    "String name = scanner.nextLine();\n",
    "System.out.println(\"Hello: \"+name);\n",
    "\n",
    "System.out.println(\"Enter your number1: \");\n",
    "int number1 = scanner.nextInt();\n",
    "System.out.println(\"Enter your number2: \");\n",
    "int number2 = scanner.nextInt();\n",
    "\n",
    "System.out.println(\"number1 + number2 =  \"+(number1+number2));\n",
    "return number1+number2;"
   ]
  },
  {
   "cell_type": "code",
   "execution_count": null,
   "metadata": {},
   "outputs": [],
   "source": []
  }
 ],
 "metadata": {
  "kernelspec": {
   "display_name": "Java",
   "language": "java",
   "name": "java"
  },
  "language_info": {
   "codemirror_mode": "text/x-java",
   "file_extension": ".java",
   "mimetype": "",
   "name": "Java",
   "nbconverter_exporter": "",
   "version": "1.8.0_121"
  },
  "toc": {
   "base_numbering": 1,
   "nav_menu": {},
   "number_sections": false,
   "sideBar": false,
   "skip_h1_title": false,
   "title_cell": "Table of Contents",
   "title_sidebar": "Contents",
   "toc_cell": false,
   "toc_position": {},
   "toc_section_display": false,
   "toc_window_display": false
  }
 },
 "nbformat": 4,
 "nbformat_minor": 2
}
