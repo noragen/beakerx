{
 "cells": [
  {
   "cell_type": "code",
   "execution_count": null,
   "metadata": {},
   "outputs": [],
   "source": [
    "import scala.util.Random\n",
    "\n",
    "TableDisplay.setLoadingMode(TableDisplayLoadingMode.ENDLESS)\n",
    "import scala.util.Random\n",
    "val random = new Random()\n",
    "var index = 0\n",
    "val s1: Stream[Map[String, Any]] = Stream.continually {\n",
    "    index+=1\n",
    "    Map(\n",
    "      \"str1\" -> index,\n",
    "      \"str2\" -> random.nextFloat(),\n",
    "      \"str3\" -> random.nextDouble())\n",
    "}\n",
    "new TableDisplay(s1)"
   ]
  },
  {
   "cell_type": "code",
   "execution_count": null,
   "metadata": {},
   "outputs": [],
   "source": []
  }
 ],
 "metadata": {
  "kernelspec": {
   "display_name": "Scala",
   "language": "scala",
   "name": "scala"
  },
  "language_info": {
   "codemirror_mode": "text/x-scala",
   "file_extension": ".scala",
   "mimetype": "",
   "name": "Scala",
   "nbconverter_exporter": "",
   "version": "2.11.12"
  },
  "toc": {
   "base_numbering": 1,
   "nav_menu": {},
   "number_sections": false,
   "sideBar": false,
   "skip_h1_title": false,
   "title_cell": "Table of Contents",
   "title_sidebar": "Contents",
   "toc_cell": false,
   "toc_position": {},
   "toc_section_display": false,
   "toc_window_display": false
  }
 },
 "nbformat": 4,
 "nbformat_minor": 2
}
