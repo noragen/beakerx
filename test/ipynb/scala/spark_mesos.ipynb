{
 "cells": [
  {
   "cell_type": "markdown",
   "metadata": {},
   "source": [
    "### instructions\n",
    "1. install and run mesos http://mesos.apache.org/documentation/latest/building/\n",
    "2. in CLI -> export MESOS_NATIVE_JAVA_LIBRARY=\"path to libmesos.so\"\n",
    "3. in the same CLI -> run jupyter notebook"
   ]
  },
  {
   "cell_type": "code",
   "execution_count": null,
   "metadata": {
    "scrolled": false
   },
   "outputs": [],
   "source": [
    "%%classpath add mvn\n",
    "org.apache.spark spark-mesos_2.11 2.4.0"
   ]
  },
  {
   "cell_type": "code",
   "execution_count": null,
   "metadata": {},
   "outputs": [],
   "source": [
    "%%spark \n",
    "SparkSession.builder()\n",
    "      .appName(\"Simple Application\")\n",
    "      .config(\"spark.executor.uri\", \"PATH_TO/spark-2.4.0-bin-hadoop2.7.tgz\")\n",
    "// or \n",
    "//       .config(\"spark.mesos.executor.home\", \"SPARK_HOME\")\n",
    "      .master(\"mesos://127.0.0.1:5050\")"
   ]
  },
  {
   "cell_type": "code",
   "execution_count": null,
   "metadata": {},
   "outputs": [],
   "source": [
    "import scala.math.random\n",
    "val NUM_SAMPLES = 10000000\n",
    "\n",
    "val count2 = spark.sparkContext.parallelize(1 to NUM_SAMPLES).map{i =>\n",
    "  val x = random\n",
    "  val y = random\n",
    "  if (x*x + y*y < 1) 1 else 0\n",
    "}.reduce(_ + _)\n",
    "\n",
    "println(\"Pi is roughly \" + 4.0 * count2 / NUM_SAMPLES)"
   ]
  }
 ],
 "metadata": {
  "kernelspec": {
   "display_name": "Scala",
   "language": "scala",
   "name": "scala"
  },
  "language_info": {
   "codemirror_mode": "text/x-scala",
   "file_extension": ".scala",
   "mimetype": "",
   "name": "Scala",
   "nbconverter_exporter": "",
   "version": "2.11.12"
  },
  "toc": {
   "base_numbering": 1,
   "nav_menu": {},
   "number_sections": false,
   "sideBar": false,
   "skip_h1_title": false,
   "title_cell": "Table of Contents",
   "title_sidebar": "Contents",
   "toc_cell": false,
   "toc_position": {},
   "toc_section_display": false,
   "toc_window_display": false
  }
 },
 "nbformat": 4,
 "nbformat_minor": 2
}
